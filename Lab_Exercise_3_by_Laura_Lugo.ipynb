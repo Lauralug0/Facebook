{
  "cells": [
    {
      "cell_type": "markdown",
      "metadata": {
        "id": "view-in-github",
        "colab_type": "text"
      },
      "source": [
        "<a href=\"https://colab.research.google.com/github/Lauralug0/Facebook/blob/main/Lab_Exercise_3_by_Laura_Lugo.ipynb\" target=\"_parent\"><img src=\"https://colab.research.google.com/assets/colab-badge.svg\" alt=\"Open In Colab\"/></a>"
      ]
    },
    {
      "cell_type": "markdown",
      "metadata": {
        "id": "4wc7st559IIS"
      },
      "source": [
        "<p style=\"font-family: Arial; font-size:3em;color:black;\"> Lab Exercise 3 </p>"
      ]
    },
    {
      "cell_type": "code",
      "execution_count": 25,
      "metadata": {
        "colab": {
          "base_uri": "https://localhost:8080/"
        },
        "id": "it4UwLiz9IIV",
        "outputId": "1115bf1f-fe0f-43c1-9a0c-74e70cb76b67"
      },
      "outputs": [
        {
          "output_type": "stream",
          "name": "stdout",
          "text": [
            "Array A:\n",
            " [[5 2 3]\n",
            " [6 1 3]\n",
            " [2 4 1]]\n",
            "Array B:\n",
            " [[5 2 3]\n",
            " [6 1 3]\n",
            " [2 4 1]]\n",
            "Array C:\n",
            " [[5 2 3]\n",
            " [6 1 3]\n",
            " [2 4 1]]\n",
            "Array D:\n",
            " [[ 4 -7  4]\n",
            " [ 5  6 -1]\n",
            " [-4  2  5]]\n",
            "Matrix A:\n",
            " [[5 2 3]\n",
            " [6 1 3]\n",
            " [2 4 1]]\n",
            "Matrix D:\n",
            " [[ 4 -7  4]\n",
            " [ 5  6 -1]\n",
            " [-4  2  5]]\n",
            "Matrix AD:\n",
            " [[ 18 -17  33]\n",
            " [ 17 -30  38]\n",
            " [ 24  12   9]]\n",
            "Matrix DA:\n",
            " [[-14  17  -5]\n",
            " [ 59  12  32]\n",
            " [  2  14  -1]]\n",
            "Are AD and DA equal? False\n",
            "\n",
            " Determinant of B: 11\n",
            "Inverse of B:\n",
            " [[-1.          0.90909091  0.27272727]\n",
            " [ 0.         -0.09090909  0.27272727]\n",
            " [ 2.         -1.45454545 -0.63636364]]\n",
            "Inverse of D:\n",
            " [[ 0.07785888  0.10462287 -0.04136253]\n",
            " [-0.05109489  0.08759124  0.05839416]\n",
            " [ 0.08272506  0.0486618   0.14355231]]\n",
            "D * D⁻¹:\n",
            " [[ 1.  0.  0.]\n",
            " [ 0.  1. -0.]\n",
            " [-0. -0.  1.]]\n",
            "D⁻¹ * D:\n",
            " [[ 1.  0.  0.]\n",
            " [ 0.  1. -0.]\n",
            " [ 0.  0.  1.]]\n",
            "Both matrices are identical\n"
          ]
        }
      ],
      "source": [
        "import numpy as np\n",
        "from numpy.linalg import inv\n",
        "from numpy.linalg import det\n",
        "\n",
        "a = np.array([[5, 2, 3], [6, 1, 3],[2, 4, 1]])\n",
        "b = np.array([[5, 2, 3], [6, 1, 3], [2, 4, 1]])\n",
        "c = np.array([[5, 2, 3], [6, 1, 3],[2, 4, 1]])\n",
        "\n",
        "\n",
        "print(\"Array A:\\n\", a)\n",
        "print(\"Array B:\\n\", b)\n",
        "print(\"Array C:\\n\", b)\n",
        "\n",
        "d = np.array([[4, -7, 4],[5, 6, -1],[-4, 2, 5]])\n",
        "\n",
        "print(\"Array D:\\n\", d)\n",
        "\n",
        "ad = np.matmul(a, d)\n",
        "da = np.matmul(d, a)\n",
        "\n",
        "print(\"Matrix A:\\n\", a)\n",
        "print(\"Matrix D:\\n\", d)\n",
        "print(\"Matrix AD:\\n\", ad)\n",
        "print(\"Matrix DA:\\n\", da)\n",
        "\n",
        "print(\"Are AD and DA equal?\", np.array_equal(ad, da))\n",
        "\n",
        "\n",
        "det_B = np.linalg.det(b)\n",
        "print(\"\\n Determinant of B:\", round(det_B))\n",
        "\n",
        "\n",
        "B_inv = np.linalg.inv(b)\n",
        "print(\"Inverse of B:\\n\", B_inv)\n",
        "\n",
        "\n",
        "D_inv = np.linalg.inv(d)\n",
        "print(\"Inverse of D:\\n\", D_inv)\n",
        "\n",
        "Inv1 = np.matmul(d, D_inv)\n",
        "Inv2 = np.matmul(D_inv, d)\n",
        "\n",
        "\n",
        "\n",
        "print(\"D * D⁻¹:\\n\", np.round(Inv1, decimals=5))\n",
        "print(\"D⁻¹ * D:\\n\", np.round(Inv2, decimals=5))\n",
        "print(\"Both matrices are identical\")"
      ]
    }
  ],
  "metadata": {
    "kernelspec": {
      "display_name": "Python 3 (ipykernel)",
      "language": "python",
      "name": "python3"
    },
    "language_info": {
      "codemirror_mode": {
        "name": "ipython",
        "version": 3
      },
      "file_extension": ".py",
      "mimetype": "text/x-python",
      "name": "python",
      "nbconvert_exporter": "python",
      "pygments_lexer": "ipython3",
      "version": "3.9.7"
    },
    "colab": {
      "provenance": [],
      "include_colab_link": true
    }
  },
  "nbformat": 4,
  "nbformat_minor": 0
}